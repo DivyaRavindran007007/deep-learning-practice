{
  "nbformat": 4,
  "nbformat_minor": 0,
  "metadata": {
    "colab": {
      "name": "fastai_lesson7.ipynb",
      "version": "0.3.2",
      "provenance": [],
      "collapsed_sections": []
    },
    "kernelspec": {
      "name": "python3",
      "display_name": "Python 3"
    },
    "accelerator": "GPU"
  },
  "cells": [
    {
      "cell_type": "markdown",
      "metadata": {
        "id": "view-in-github",
        "colab_type": "text"
      },
      "source": [
        "[View in Colaboratory](https://colab.research.google.com/github/kywch/deep-learning-practice/blob/master/fastai_lesson7.ipynb)"
      ]
    },
    {
      "metadata": {
        "id": "2qqhMs4Ah-_P",
        "colab_type": "text"
      },
      "cell_type": "markdown",
      "source": [
        "## References\n",
        "\n",
        "For tips related colab, see https://medium.com/deep-learning-turkey/google-colab-free-gpu-tutorial-e113627b9f5d\n",
        "\n",
        "For setting up colab to use pytorch and fastai, see https://towardsdatascience.com/fast-ai-lesson-1-on-google-colab-free-gpu-d2af89f53604\n",
        "\n",
        "The below codes are taken from http://course.fast.ai/lessons/lesson7.html, http://forums.fast.ai/t/wiki-lesson-7/9405 "
      ]
    },
    {
      "metadata": {
        "id": "Mj82CkoAS9Op",
        "colab_type": "text"
      },
      "cell_type": "markdown",
      "source": [
        "# Setting up the playground\n"
      ]
    },
    {
      "metadata": {
        "id": "F3HKqJ6GTK1a",
        "colab_type": "text"
      },
      "cell_type": "markdown",
      "source": [
        "## To make sure if notebook is running on GPU background"
      ]
    },
    {
      "metadata": {
        "id": "_yWNDtTxTQGq",
        "colab_type": "code",
        "colab": {}
      },
      "cell_type": "code",
      "source": [
        "import tensorflow as tf\n",
        "tf.test.gpu_device_name()"
      ],
      "execution_count": 0,
      "outputs": []
    },
    {
      "metadata": {
        "id": "a_MOYG7BKI7t",
        "colab_type": "code",
        "colab": {}
      },
      "cell_type": "code",
      "source": [
        "!/opt/bin/nvidia-smi"
      ],
      "execution_count": 0,
      "outputs": []
    },
    {
      "metadata": {
        "id": "Soy6urTJSvEh",
        "colab_type": "text"
      },
      "cell_type": "markdown",
      "source": [
        "## Installing pytorch"
      ]
    },
    {
      "metadata": {
        "id": "nOPou_DGIDiM",
        "colab_type": "code",
        "colab": {}
      },
      "cell_type": "code",
      "source": [
        "import sys\n",
        "print (sys.version)"
      ],
      "execution_count": 0,
      "outputs": []
    },
    {
      "metadata": {
        "id": "bddu3sCATYJb",
        "colab_type": "code",
        "colab": {}
      },
      "cell_type": "code",
      "source": [
        "#!pip install http://download.pytorch.org/whl/cu80/torch-0.3.0.post4-cp36-cp36m-linux_x86_64.whl && pip install torchvision\n",
        "#!pip install http://download.pytorch.org/whl/cu75/torch-0.3.0.post4-cp36-cp36m-linux_x86_64.whl  && pip install torchvision\n",
        "!pip3 install torch torchvision"
      ],
      "execution_count": 0,
      "outputs": []
    },
    {
      "metadata": {
        "id": "Et3-WznfT3Jp",
        "colab_type": "text"
      },
      "cell_type": "markdown",
      "source": [
        "### Workaround for an issue with PIL\n",
        "For *\"AttributeError: module ‘PIL.Image’ has no attribute ‘register_extensions\"*, refer this [link](http://forums.fast.ai/t/attributeerror-module-pil-image-has-no-attribute-register-extensions/10689/3) for information related to this issue and workaround."
      ]
    },
    {
      "metadata": {
        "id": "Tz9hoc8JTakZ",
        "colab_type": "code",
        "colab": {}
      },
      "cell_type": "code",
      "source": [
        "!pip install Pillow==4.0.0\n",
        "!pip install PIL\n",
        "!pip install image"
      ],
      "execution_count": 0,
      "outputs": []
    },
    {
      "metadata": {
        "id": "qwQv-CtlUctM",
        "colab_type": "text"
      },
      "cell_type": "markdown",
      "source": [
        "## Installing fastai"
      ]
    },
    {
      "metadata": {
        "id": "Z86zKodqUQGg",
        "colab_type": "code",
        "colab": {}
      },
      "cell_type": "code",
      "source": [
        "!pip install https://github.com/fastai/fastai/archive/master.zip"
      ],
      "execution_count": 0,
      "outputs": []
    },
    {
      "metadata": {
        "id": "3pWcXULGUkWp",
        "colab_type": "code",
        "colab": {}
      },
      "cell_type": "code",
      "source": [
        "import fastai\n"
      ],
      "execution_count": 0,
      "outputs": []
    },
    {
      "metadata": {
        "id": "q8Suc_7OVbzP",
        "colab_type": "text"
      },
      "cell_type": "markdown",
      "source": [
        "# Download the dataset - CIFAR 10"
      ]
    },
    {
      "metadata": {
        "id": "eRkkvZ1yVxUY",
        "colab_type": "code",
        "colab": {}
      },
      "cell_type": "code",
      "source": [
        "from fastai import io\n",
        "import os\n",
        "import tarfile\n",
        "import shutil\n",
        "def download_cifar10(data_path):\n",
        "    # (AS) TODO: put this into the fastai library\n",
        "    def untar_file(file_path, save_path):\n",
        "        if file_path.endswith('.tar.gz') or file_path.endswith('.tgz'):\n",
        "            obj = tarfile.open(file_path)\n",
        "            obj.extractall(save_path)\n",
        "            obj.close()\n",
        "            os.remove(file_path)\n",
        "\n",
        "    cifar_url = 'http://files.fast.ai/data/cifar10.tgz' # faster download\n",
        "    # cifar_url = 'http://pjreddie.com/media/files/cifar.tgz'\n",
        "    io.get_data(cifar_url, data_path+'/cifar10.tgz')\n",
        "    untar_file(data_path+'/cifar10.tgz', data_path)\n",
        "    # Loader expects train and test folders to be outside of cifar10 folder\n",
        "    shutil.move(data_path+'/cifar10/train', data_path)\n",
        "    shutil.move(data_path+'/cifar10/test', data_path)\n"
      ],
      "execution_count": 0,
      "outputs": []
    },
    {
      "metadata": {
        "id": "url1uMQbW2PS",
        "colab_type": "code",
        "colab": {}
      },
      "cell_type": "code",
      "source": [
        "data_dir = 'cifar10_data'\n",
        "!mkdir {data_dir}\n",
        "download_cifar10(data_dir)"
      ],
      "execution_count": 0,
      "outputs": []
    },
    {
      "metadata": {
        "id": "mlBHu_ZQYr2t",
        "colab_type": "code",
        "colab": {}
      },
      "cell_type": "code",
      "source": [
        "# make sure the data is here\n",
        "!ls {data_dir}/train"
      ],
      "execution_count": 0,
      "outputs": []
    },
    {
      "metadata": {
        "id": "tc0_pElzbtX6",
        "colab_type": "code",
        "colab": {}
      },
      "cell_type": "code",
      "source": [
        "files = !ls {data_dir}/train/airplane  | head\n",
        "files"
      ],
      "execution_count": 0,
      "outputs": []
    },
    {
      "metadata": {
        "id": "3A-ZYTxYZ-Cj",
        "colab_type": "text"
      },
      "cell_type": "markdown",
      "source": [
        "# Looking at the dataset"
      ]
    },
    {
      "metadata": {
        "id": "5L1YAivhZRD5",
        "colab_type": "code",
        "colab": {}
      },
      "cell_type": "code",
      "source": [
        "# just run these in every notebook\n",
        "%matplotlib inline\n",
        "%reload_ext autoreload\n",
        "%autoreload 2"
      ],
      "execution_count": 0,
      "outputs": []
    },
    {
      "metadata": {
        "id": "dwoJQwbH4vYx",
        "colab_type": "code",
        "colab": {}
      },
      "cell_type": "code",
      "source": [
        "# getting the image stats from torchvision\n",
        "\n",
        "import torchvision.datasets as dset\n",
        "import torchvision.transforms as transforms\n",
        "\n",
        "tmp_data = dset.CIFAR10(root='cifar', train=True, download=True,\n",
        "                    transform=transforms.ToTensor()).train_data\n",
        "tmp_data = tmp_data.astype(np.float32)/255.\n",
        "\n",
        "print(\"data size: {}\".format(tmp_data.shape))\n",
        "\n",
        "means = []\n",
        "stdevs = []\n",
        "for i in range(3):\n",
        "    pixels = tmp_data[:,:,:,i].ravel()\n",
        "    means.append(np.mean(pixels))\n",
        "    stdevs.append(np.std(pixels))\n",
        "\n",
        "print(\"means: {}\".format(means))\n",
        "print(\"stdevs: {}\".format(stdevs))\n",
        "\n",
        "stats = ( np.mean(pixels), np.std(pixels))"
      ],
      "execution_count": 0,
      "outputs": []
    },
    {
      "metadata": {
        "id": "LY9ea2gwqjTf",
        "colab_type": "text"
      },
      "cell_type": "markdown",
      "source": [
        "Image stats should come from all images in the training folder. \n",
        "\n",
        "For each RGB, get mean and std: e.g., stats = (np.array([ 0.4914 ,  0.48216,  0.44653]), np.array([ 0.24703,  0.24349,  0.26159]))"
      ]
    },
    {
      "metadata": {
        "id": "6sTJ-qvnZorj",
        "colab_type": "code",
        "colab": {}
      },
      "cell_type": "code",
      "source": [
        "#classes = ('airplane', 'automobile', 'bird', 'cat', 'deer', 'dog', 'frog', 'horse', 'ship', 'truck')\n",
        "classes = !ls {data_dir}/train\n",
        "classes"
      ],
      "execution_count": 0,
      "outputs": []
    },
    {
      "metadata": {
        "id": "nqLfd2qRsymC",
        "colab_type": "code",
        "colab": {}
      },
      "cell_type": "code",
      "source": [
        "os.path.join(data_dir, 'train', '*.png')"
      ],
      "execution_count": 0,
      "outputs": []
    },
    {
      "metadata": {
        "id": "7kSv4JujprFp",
        "colab_type": "code",
        "colab": {}
      },
      "cell_type": "code",
      "source": [
        "# load all images from the training folder\n",
        "import os\n",
        "import glob\n",
        "from PIL import Image, ImageStat\n",
        "\n",
        "image_list = []\n",
        "\n",
        "for filename in glob.iglob( os.path.join(data_dir, 'train', '*', '*.png'),  recursive=True):\n",
        "  im = Image.open(filename)\n",
        "  image_list.append(im)\n",
        "\n",
        "len(image_list)"
      ],
      "execution_count": 0,
      "outputs": []
    },
    {
      "metadata": {
        "id": "bepkj2jTtvld",
        "colab_type": "code",
        "colab": {}
      },
      "cell_type": "code",
      "source": [
        "plt.imshow(image_list[0])"
      ],
      "execution_count": 0,
      "outputs": []
    },
    {
      "metadata": {
        "id": "UxzbcGL_Zfap",
        "colab_type": "code",
        "colab": {}
      },
      "cell_type": "code",
      "source": [
        "from fastai.learner import *\n",
        "\n",
        "def get_data(image_size, batch_size):\n",
        "    tfms = tfms_from_stats(stats, image_size, aug_tfms=[RandomFlip()], pad=image_size//8)\n",
        "    return ImageClassifierData.from_paths(data_dir, val_name='test', tfms=tfms, bs=batch_size)"
      ],
      "execution_count": 0,
      "outputs": []
    },
    {
      "metadata": {
        "id": "0htS6dqIZuXt",
        "colab_type": "code",
        "colab": {}
      },
      "cell_type": "code",
      "source": [
        "# example of get_data with different batch sizes\n",
        "data = get_data(32, 4)\n",
        "[data, len(data.trn_dl), len(data.val_dl)]"
      ],
      "execution_count": 0,
      "outputs": []
    },
    {
      "metadata": {
        "id": "wRLlfi7pVRbA",
        "colab_type": "text"
      },
      "cell_type": "markdown",
      "source": [
        "# The simplest fully connected model"
      ]
    },
    {
      "metadata": {
        "id": "de0ZzGt9VZnw",
        "colab_type": "code",
        "colab": {}
      },
      "cell_type": "code",
      "source": [
        "batch_size = 256\n",
        "\n",
        "data = get_data(32,batch_size)\n",
        "[data, len(data.trn_dl), len(data.val_dl)]"
      ],
      "execution_count": 0,
      "outputs": []
    },
    {
      "metadata": {
        "id": "hll1sg-u_mKS",
        "colab_type": "code",
        "colab": {}
      },
      "cell_type": "code",
      "source": [
        "class SimpleNet(nn.Module):\n",
        "    def __init__(self, layers):\n",
        "        super().__init__()\n",
        "        self.layers = nn.ModuleList([\n",
        "            nn.Linear(layers[i], layers[i + 1]) for i in range(len(layers) - 1)])\n",
        "        \n",
        "    def forward(self, x):\n",
        "        x = x.view(x.size(0), -1)\n",
        "        for l in self.layers:\n",
        "            l_x = l(x)\n",
        "            x = F.relu(l_x)\n",
        "        return F.log_softmax(l_x, dim=-1)"
      ],
      "execution_count": 0,
      "outputs": []
    },
    {
      "metadata": {
        "id": "iYlVWovn_thi",
        "colab_type": "code",
        "colab": {}
      },
      "cell_type": "code",
      "source": [
        "# Learner is from learner.py\n",
        "# create a simple net with..\n",
        "#  -- input layer: 32 x 32 px x 3 RGB channels, flattened\n",
        "#  -- fully connected hidden layer, from input to 40 units\n",
        "#  -- fully connected output layer, from 40 units to 10\n",
        "\n",
        "learn = Learner.from_model_data(SimpleNet([32*32*3, 40,10]), data)\n",
        "learn, [o.numel() for o in learn.model.parameters()]"
      ],
      "execution_count": 0,
      "outputs": []
    },
    {
      "metadata": {
        "id": "Jr5JiiYWALh7",
        "colab_type": "code",
        "colab": {}
      },
      "cell_type": "code",
      "source": [
        "#torch.set_default_tensor_type('torch.cuda.FloatTensor')\n",
        "\n",
        "learn.summary()"
      ],
      "execution_count": 0,
      "outputs": []
    },
    {
      "metadata": {
        "id": "06iV0fHuAfUl",
        "colab_type": "code",
        "colab": {}
      },
      "cell_type": "code",
      "source": [
        "# Bumped into a problem when trying to run learn.lr_find() and learn.fit()\n",
        "# SEE ISSUE https://github.com/pytorch/pytorch/issues/6874 \n",
        "# for 'RuntimeError: randperm is only implemented for CPU'\n",
        "\n",
        "\n",
        "learn.lr_find()\n",
        "\n",
        "%time learn.fit(.01, 2)\n"
      ],
      "execution_count": 0,
      "outputs": []
    },
    {
      "metadata": {
        "id": "DPkksWi7BAH3",
        "colab_type": "code",
        "colab": {}
      },
      "cell_type": "code",
      "source": [
        ""
      ],
      "execution_count": 0,
      "outputs": []
    }
  ]
}