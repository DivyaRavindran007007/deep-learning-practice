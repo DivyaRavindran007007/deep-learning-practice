{
  "nbformat": 4,
  "nbformat_minor": 0,
  "metadata": {
    "colab": {
      "name": "fastai_lesson7.ipynb",
      "version": "0.3.2",
      "provenance": [],
      "collapsed_sections": []
    },
    "kernelspec": {
      "name": "python3",
      "display_name": "Python 3"
    },
    "accelerator": "GPU"
  },
  "cells": [
    {
      "cell_type": "markdown",
      "metadata": {
        "id": "view-in-github",
        "colab_type": "text"
      },
      "source": [
        "[View in Colaboratory](https://colab.research.google.com/github/kywch/deep-learning-practice/blob/master/fastai_lesson7.ipynb)"
      ]
    },
    {
      "metadata": {
        "id": "2qqhMs4Ah-_P",
        "colab_type": "text"
      },
      "cell_type": "markdown",
      "source": [
        "## References\n",
        "\n",
        "For tips related colab, see https://medium.com/deep-learning-turkey/google-colab-free-gpu-tutorial-e113627b9f5d\n",
        "\n",
        "For setting up colab to use pytorch and fastai, see https://towardsdatascience.com/fast-ai-lesson-1-on-google-colab-free-gpu-d2af89f53604\n",
        "\n",
        "The below codes are taken from http://course.fast.ai/lessons/lesson7.html, http://forums.fast.ai/t/wiki-lesson-7/9405 "
      ]
    },
    {
      "metadata": {
        "id": "Mj82CkoAS9Op",
        "colab_type": "text"
      },
      "cell_type": "markdown",
      "source": [
        "# Setting up the playground\n"
      ]
    },
    {
      "metadata": {
        "id": "F3HKqJ6GTK1a",
        "colab_type": "text"
      },
      "cell_type": "markdown",
      "source": [
        "## To make sure if notebook is running on GPU background"
      ]
    },
    {
      "metadata": {
        "id": "_yWNDtTxTQGq",
        "colab_type": "code",
        "colab": {
          "base_uri": "https://localhost:8080/",
          "height": 34
        },
        "outputId": "d24db9b2-6439-48bd-874f-dd15a04c7205"
      },
      "cell_type": "code",
      "source": [
        "import tensorflow as tf\n",
        "tf.test.gpu_device_name()"
      ],
      "execution_count": 1,
      "outputs": [
        {
          "output_type": "execute_result",
          "data": {
            "text/plain": [
              "'/device:GPU:0'"
            ]
          },
          "metadata": {
            "tags": []
          },
          "execution_count": 1
        }
      ]
    },
    {
      "metadata": {
        "id": "a_MOYG7BKI7t",
        "colab_type": "code",
        "colab": {
          "base_uri": "https://localhost:8080/",
          "height": 291
        },
        "outputId": "347c1777-8a76-4d07-d2af-ce9429b8633e"
      },
      "cell_type": "code",
      "source": [
        "!/opt/bin/nvidia-smi"
      ],
      "execution_count": 7,
      "outputs": [
        {
          "output_type": "stream",
          "text": [
            "Thu Apr 26 22:54:29 2018       \r\n",
            "+-----------------------------------------------------------------------------+\r\n",
            "| NVIDIA-SMI 384.111                Driver Version: 384.111                   |\r\n",
            "|-------------------------------+----------------------+----------------------+\r\n",
            "| GPU  Name        Persistence-M| Bus-Id        Disp.A | Volatile Uncorr. ECC |\r\n",
            "| Fan  Temp  Perf  Pwr:Usage/Cap|         Memory-Usage | GPU-Util  Compute M. |\r\n",
            "|===============================+======================+======================|\r\n",
            "|   0  Tesla K80           Off  | 00000000:00:04.0 Off |                    0 |\r\n",
            "| N/A   34C    P0    54W / 149W |  10875MiB / 11439MiB |      0%      Default |\r\n",
            "+-------------------------------+----------------------+----------------------+\r\n",
            "                                                                               \r\n",
            "+-----------------------------------------------------------------------------+\r\n",
            "| Processes:                                                       GPU Memory |\r\n",
            "|  GPU       PID   Type   Process name                             Usage      |\r\n",
            "|=============================================================================|\r\n",
            "+-----------------------------------------------------------------------------+\r\n"
          ],
          "name": "stdout"
        }
      ]
    },
    {
      "metadata": {
        "id": "Soy6urTJSvEh",
        "colab_type": "text"
      },
      "cell_type": "markdown",
      "source": [
        "## Installing pytorch"
      ]
    },
    {
      "metadata": {
        "id": "nOPou_DGIDiM",
        "colab_type": "code",
        "colab": {
          "base_uri": "https://localhost:8080/",
          "height": 51
        },
        "outputId": "ba27ee12-fa31-4c81-c47e-13cfc7188495"
      },
      "cell_type": "code",
      "source": [
        "import sys\n",
        "print (sys.version)"
      ],
      "execution_count": 3,
      "outputs": [
        {
          "output_type": "stream",
          "text": [
            "3.6.3 (default, Oct  3 2017, 21:45:48) \n",
            "[GCC 7.2.0]\n"
          ],
          "name": "stdout"
        }
      ]
    },
    {
      "metadata": {
        "id": "bddu3sCATYJb",
        "colab_type": "code",
        "colab": {
          "base_uri": "https://localhost:8080/",
          "height": 137
        },
        "outputId": "1f4281bc-f91e-4d9a-d02c-9e668e3cd6d6"
      },
      "cell_type": "code",
      "source": [
        "#!pip install http://download.pytorch.org/whl/cu80/torch-0.3.0.post4-cp36-cp36m-linux_x86_64.whl && pip install torchvision\n",
        "#!pip install http://download.pytorch.org/whl/cu75/torch-0.3.0.post4-cp36-cp36m-linux_x86_64.whl  && pip install torchvision\n",
        "!pip3 install torch torchvision"
      ],
      "execution_count": 8,
      "outputs": [
        {
          "output_type": "stream",
          "text": [
            "Looking in indexes: https://pypi.org/simple, https://legacy.pypi.org/simple\r\n",
            "Requirement already satisfied: torch in /usr/local/lib/python3.6/dist-packages (0.3.0.post4)\r\n",
            "Requirement already satisfied: torchvision in /usr/local/lib/python3.6/dist-packages (0.2.1)\r\n",
            "Requirement already satisfied: pyyaml in /usr/local/lib/python3.6/dist-packages (from torch) (3.12)\r\n",
            "Requirement already satisfied: numpy in /usr/local/lib/python3.6/dist-packages (from torch) (1.14.2)\r\n",
            "Requirement already satisfied: pillow>=4.1.1 in /usr/local/lib/python3.6/dist-packages (from torchvision) (5.1.0)\n",
            "Requirement already satisfied: six in /usr/local/lib/python3.6/dist-packages (from torchvision) (1.11.0)\n"
          ],
          "name": "stdout"
        }
      ]
    },
    {
      "metadata": {
        "id": "Et3-WznfT3Jp",
        "colab_type": "text"
      },
      "cell_type": "markdown",
      "source": [
        "### Workaround for an issue with PIL\n",
        "For *\"AttributeError: module ‘PIL.Image’ has no attribute ‘register_extensions\"*, refer this [link](http://forums.fast.ai/t/attributeerror-module-pil-image-has-no-attribute-register-extensions/10689/3) for information related to this issue and workaround."
      ]
    },
    {
      "metadata": {
        "id": "Tz9hoc8JTakZ",
        "colab_type": "code",
        "colab": {
          "base_uri": "https://localhost:8080/",
          "height": 274
        },
        "outputId": "46a88f21-2686-4f3e-dbfd-cebae68cfa3f"
      },
      "cell_type": "code",
      "source": [
        "!pip install Pillow==4.0.0\n",
        "!pip install PIL\n",
        "!pip install image"
      ],
      "execution_count": 10,
      "outputs": [
        {
          "output_type": "stream",
          "text": [
            "Looking in indexes: https://pypi.org/simple, https://legacy.pypi.org/simple\r\n",
            "Requirement already satisfied: Pillow==4.0.0 in /usr/local/lib/python3.6/dist-packages (4.0.0)\r\n",
            "Requirement already satisfied: olefile in /usr/local/lib/python3.6/dist-packages (from Pillow==4.0.0) (0.45.1)\n",
            "\u001b[31mtorchvision 0.2.1 has requirement pillow>=4.1.1, but you'll have pillow 4.0.0 which is incompatible.\u001b[0m\n",
            "Looking in indexes: https://pypi.org/simple, https://legacy.pypi.org/simple\n",
            "Collecting PIL\n",
            "\u001b[31m  Could not find a version that satisfies the requirement PIL (from versions: )\u001b[0m\n",
            "\u001b[31mNo matching distribution found for PIL\u001b[0m\n",
            "Looking in indexes: https://pypi.org/simple, https://legacy.pypi.org/simple\n",
            "Requirement already satisfied: image in /usr/local/lib/python3.6/dist-packages (1.5.20)\n",
            "Requirement already satisfied: pillow in /usr/local/lib/python3.6/dist-packages (from image) (4.0.0)\n",
            "Requirement already satisfied: django in /usr/local/lib/python3.6/dist-packages (from image) (2.0.4)\n",
            "Requirement already satisfied: olefile in /usr/local/lib/python3.6/dist-packages (from pillow->image) (0.45.1)\n",
            "Requirement already satisfied: pytz in /usr/local/lib/python3.6/dist-packages (from django->image) (2018.4)\n",
            "\u001b[31mtorchvision 0.2.1 has requirement pillow>=4.1.1, but you'll have pillow 4.0.0 which is incompatible.\u001b[0m\n"
          ],
          "name": "stdout"
        }
      ]
    },
    {
      "metadata": {
        "id": "qwQv-CtlUctM",
        "colab_type": "text"
      },
      "cell_type": "markdown",
      "source": [
        "## Installing fastai"
      ]
    },
    {
      "metadata": {
        "id": "Z86zKodqUQGg",
        "colab_type": "code",
        "colab": {
          "base_uri": "https://localhost:8080/",
          "height": 34
        },
        "outputId": "4b72aef2-349c-455e-a1bc-fda3b9fbdf4b"
      },
      "cell_type": "code",
      "source": [
        "!pip install https://github.com/fastai/fastai/archive/master.zip"
      ],
      "execution_count": 45,
      "outputs": [
        {
          "output_type": "stream",
          "text": [
            "ERROR: unknown command \"upgrade\"\r\n"
          ],
          "name": "stdout"
        }
      ]
    },
    {
      "metadata": {
        "id": "3pWcXULGUkWp",
        "colab_type": "code",
        "colab": {}
      },
      "cell_type": "code",
      "source": [
        "import fastai\n"
      ],
      "execution_count": 0,
      "outputs": []
    },
    {
      "metadata": {
        "id": "q8Suc_7OVbzP",
        "colab_type": "text"
      },
      "cell_type": "markdown",
      "source": [
        "# Download the dataset - CIFAR 10"
      ]
    },
    {
      "metadata": {
        "id": "eRkkvZ1yVxUY",
        "colab_type": "code",
        "colab": {}
      },
      "cell_type": "code",
      "source": [
        "from fastai import io\n",
        "import os\n",
        "import tarfile\n",
        "import shutil\n",
        "def download_cifar10(data_path):\n",
        "    # (AS) TODO: put this into the fastai library\n",
        "    def untar_file(file_path, save_path):\n",
        "        if file_path.endswith('.tar.gz') or file_path.endswith('.tgz'):\n",
        "            obj = tarfile.open(file_path)\n",
        "            obj.extractall(save_path)\n",
        "            obj.close()\n",
        "            os.remove(file_path)\n",
        "\n",
        "    cifar_url = 'http://files.fast.ai/data/cifar10.tgz' # faster download\n",
        "    # cifar_url = 'http://pjreddie.com/media/files/cifar.tgz'\n",
        "    io.get_data(cifar_url, data_path+'/cifar10.tgz')\n",
        "    untar_file(data_path+'/cifar10.tgz', data_path)\n",
        "    # Loader expects train and test folders to be outside of cifar10 folder\n",
        "    shutil.move(data_path+'/cifar10/train', data_path)\n",
        "    shutil.move(data_path+'/cifar10/test', data_path)\n"
      ],
      "execution_count": 0,
      "outputs": []
    },
    {
      "metadata": {
        "id": "url1uMQbW2PS",
        "colab_type": "code",
        "colab": {
          "base_uri": "https://localhost:8080/",
          "height": 34
        },
        "outputId": "3320a702-8dbf-417b-e3d0-6de5b1256417"
      },
      "cell_type": "code",
      "source": [
        "data_dir = 'cifar10_data'\n",
        "!mkdir {data_dir}\n",
        "download_cifar10(data_dir)"
      ],
      "execution_count": 20,
      "outputs": [
        {
          "output_type": "stream",
          "text": [
            "mkdir: cannot create directory ‘cifar10_data’: File exists\r\n"
          ],
          "name": "stdout"
        }
      ]
    },
    {
      "metadata": {
        "id": "mlBHu_ZQYr2t",
        "colab_type": "code",
        "colab": {
          "base_uri": "https://localhost:8080/",
          "height": 34
        },
        "outputId": "d7fff639-b1b9-4c7b-9610-57bd47fe2273"
      },
      "cell_type": "code",
      "source": [
        "# make sure the data is here\n",
        "!ls {data_dir}/train"
      ],
      "execution_count": 21,
      "outputs": [
        {
          "output_type": "stream",
          "text": [
            "airplane  automobile  bird  cat  deer  dog  frog  horse  ship  truck\r\n"
          ],
          "name": "stdout"
        }
      ]
    },
    {
      "metadata": {
        "id": "5L1YAivhZRD5",
        "colab_type": "code",
        "colab": {}
      },
      "cell_type": "code",
      "source": [
        "# just run these in every notebook\n",
        "%matplotlib inline\n",
        "%reload_ext autoreload\n",
        "%autoreload 2"
      ],
      "execution_count": 0,
      "outputs": []
    },
    {
      "metadata": {
        "id": "UxzbcGL_Zfap",
        "colab_type": "code",
        "colab": {}
      },
      "cell_type": "code",
      "source": [
        "from fastai.conv_learner import *\n",
        "\n",
        "def get_data(img_size, batch_size):\n",
        "    tfms = tfms_from_stats(stats, img_size, aug_tfms=[RandomFlip()], pad=img_size//8)\n",
        "    return ImageClassifierData.from_paths(data_dir, val_name='test', tfms=tfms, bs=batch_size)"
      ],
      "execution_count": 0,
      "outputs": []
    },
    {
      "metadata": {
        "id": "6sTJ-qvnZorj",
        "colab_type": "code",
        "colab": {}
      },
      "cell_type": "code",
      "source": [
        "classes = ('airplane', 'automobile', 'bird', 'cat', 'deer', 'dog', 'frog', 'horse', 'ship', 'truck')\n",
        "stats = (np.array([ 0.4914 ,  0.48216,  0.44653]), np.array([ 0.24703,  0.24349,  0.26159]))\n",
        "batch_size = 256"
      ],
      "execution_count": 0,
      "outputs": []
    },
    {
      "metadata": {
        "id": "3A-ZYTxYZ-Cj",
        "colab_type": "text"
      },
      "cell_type": "markdown",
      "source": [
        "## Looking at the dataset"
      ]
    },
    {
      "metadata": {
        "id": "tc0_pElzbtX6",
        "colab_type": "code",
        "colab": {
          "base_uri": "https://localhost:8080/",
          "height": 188
        },
        "outputId": "444d65c1-e7fd-4ddb-d56a-ff5015f21688"
      },
      "cell_type": "code",
      "source": [
        "files = !ls {data_dir}/train/airplane  | head\n",
        "files"
      ],
      "execution_count": 25,
      "outputs": [
        {
          "output_type": "execute_result",
          "data": {
            "text/plain": [
              "['10008_airplane.png',\n",
              " '10010_airplane.png',\n",
              " '10020_airplane.png',\n",
              " '10024_airplane.png',\n",
              " '10031_airplane.png',\n",
              " '10043_airplane.png',\n",
              " '10050_airplane.png',\n",
              " '10061_airplane.png',\n",
              " '10064_airplane.png',\n",
              " '10115_airplane.png']"
            ]
          },
          "metadata": {
            "tags": []
          },
          "execution_count": 25
        }
      ]
    },
    {
      "metadata": {
        "id": "0htS6dqIZuXt",
        "colab_type": "code",
        "colab": {
          "base_uri": "https://localhost:8080/",
          "height": 34
        },
        "outputId": "51d13cac-64a6-4f0e-de7e-062920cd2f02"
      },
      "cell_type": "code",
      "source": [
        "data = get_data(32, 4)\n",
        "[data, len(data.trn_dl), len(data.val_dl)]"
      ],
      "execution_count": 33,
      "outputs": [
        {
          "output_type": "execute_result",
          "data": {
            "text/plain": [
              "[<fastai.dataset.ImageClassifierData at 0x7f73d4c009e8>, 12500, 2500]"
            ]
          },
          "metadata": {
            "tags": []
          },
          "execution_count": 33
        }
      ]
    },
    {
      "metadata": {
        "id": "5xTW8ahuZ0Id",
        "colab_type": "code",
        "colab": {
          "base_uri": "https://localhost:8080/",
          "height": 266
        },
        "outputId": "074190f5-77c0-4060-8f23-e5aaf4b0f418"
      },
      "cell_type": "code",
      "source": [
        "img = plt.imread(f'{data_dir}/train/airplane/{files[0]}')\n",
        "plt.imshow(img);"
      ],
      "execution_count": 27,
      "outputs": [
        {
          "output_type": "display_data",
          "data": {
            "image/png": "[encoded data removed]",
            "text/plain": [
              "<matplotlib.figure.Figure at 0x7f73d6f3fdd8>"
            ]
          },
          "metadata": {
            "tags": []
          }
        }
      ]
    },
    {
      "metadata": {
        "id": "qOp8fC34My0G",
        "colab_type": "code",
        "colab": {
          "base_uri": "https://localhost:8080/",
          "height": 34
        },
        "outputId": "252b3c28-2aaf-4865-b69b-0d56b488b82c"
      },
      "cell_type": "code",
      "source": [
        "image_size = 32;\n",
        "img.shape"
      ],
      "execution_count": 35,
      "outputs": [
        {
          "output_type": "execute_result",
          "data": {
            "text/plain": [
              "(32, 32, 3)"
            ]
          },
          "metadata": {
            "tags": []
          },
          "execution_count": 35
        }
      ]
    },
    {
      "metadata": {
        "id": "wRLlfi7pVRbA",
        "colab_type": "text"
      },
      "cell_type": "markdown",
      "source": [
        "# ResNets from scratch"
      ]
    },
    {
      "metadata": {
        "id": "2qAJxHcsM67e",
        "colab_type": "text"
      },
      "cell_type": "markdown",
      "source": [
        "## Fully connected model"
      ]
    },
    {
      "metadata": {
        "id": "de0ZzGt9VZnw",
        "colab_type": "code",
        "colab": {
          "base_uri": "https://localhost:8080/",
          "height": 34
        },
        "outputId": "00eb1470-3d7f-4275-82a6-592a32994fb1"
      },
      "cell_type": "code",
      "source": [
        "data = get_data(image_size, batch_size)\n",
        "[data, len(data.trn_dl), len(data.val_dl)]"
      ],
      "execution_count": 46,
      "outputs": [
        {
          "output_type": "execute_result",
          "data": {
            "text/plain": [
              "[<fastai.dataset.ImageClassifierData at 0x7f73d3f1ce48>, 196, 40]"
            ]
          },
          "metadata": {
            "tags": []
          },
          "execution_count": 46
        }
      ]
    },
    {
      "metadata": {
        "id": "XxDNQ3EbM_OF",
        "colab_type": "code",
        "colab": {}
      },
      "cell_type": "code",
      "source": [
        "learn_rate = 1e-2"
      ],
      "execution_count": 0,
      "outputs": []
    },
    {
      "metadata": {
        "id": "oY64TX6HNiaF",
        "colab_type": "code",
        "colab": {}
      },
      "cell_type": "code",
      "source": [
        "class SimpleNet(nn.Module):\n",
        "    def __init__(self, layers):\n",
        "        super().__init__()\n",
        "        self.layers = nn.ModuleList([\n",
        "            nn.Linear(layers[i], layers[i + 1]) for i in range(len(layers) - 1)])\n",
        "        \n",
        "    def forward(self, x):\n",
        "        x = x.view(x.size(0), -1)\n",
        "        for l in self.layers:\n",
        "            l_x = l(x)\n",
        "            x = F.relu(l_x)\n",
        "        return F.log_softmax(l_x, dim=-1)"
      ],
      "execution_count": 0,
      "outputs": []
    },
    {
      "metadata": {
        "id": "2-Uof1luNp5O",
        "colab_type": "code",
        "colab": {
          "base_uri": "https://localhost:8080/",
          "height": 181
        },
        "outputId": "2cf710f7-633a-4003-a22c-33c166ce8ad1"
      },
      "cell_type": "code",
      "source": [
        "# input layer: 32 x 32 px x RGB\n",
        "# hidden layer of 40 fully-connected units\n",
        "# output layer: 10 units for classifying 10 classes\n",
        "\n",
        "learn = ConvLearner.from_model_data(SimpleNet([32*32*3, 40,10]), data)\n"
      ],
      "execution_count": 47,
      "outputs": [
        {
          "output_type": "error",
          "ename": "AttributeError",
          "evalue": "ignored",
          "traceback": [
            "\u001b[0;31m---------------------------------------------------------------------------\u001b[0m",
            "\u001b[0;31mAttributeError\u001b[0m                            Traceback (most recent call last)",
            "\u001b[0;32m<ipython-input-47-46d83dbed8eb>\u001b[0m in \u001b[0;36m<module>\u001b[0;34m()\u001b[0m\n\u001b[1;32m      1\u001b[0m \u001b[0;34m\u001b[0m\u001b[0m\n\u001b[0;32m----> 2\u001b[0;31m \u001b[0mlearn\u001b[0m \u001b[0;34m=\u001b[0m \u001b[0mConvLearner\u001b[0m\u001b[0;34m.\u001b[0m\u001b[0mfrom_model_data\u001b[0m\u001b[0;34m(\u001b[0m\u001b[0mSimpleNet\u001b[0m\u001b[0;34m(\u001b[0m\u001b[0;34m[\u001b[0m\u001b[0;36m32\u001b[0m\u001b[0;34m*\u001b[0m\u001b[0;36m32\u001b[0m\u001b[0;34m*\u001b[0m\u001b[0;36m3\u001b[0m\u001b[0;34m,\u001b[0m \u001b[0;36m40\u001b[0m\u001b[0;34m,\u001b[0m\u001b[0;36m10\u001b[0m\u001b[0;34m]\u001b[0m\u001b[0;34m)\u001b[0m\u001b[0;34m,\u001b[0m \u001b[0mdata\u001b[0m\u001b[0;34m)\u001b[0m\u001b[0;34m\u001b[0m\u001b[0m\n\u001b[0m",
            "\u001b[0;31mAttributeError\u001b[0m: type object 'ConvLearner' has no attribute 'from_model_data'"
          ]
        }
      ]
    },
    {
      "metadata": {
        "id": "bz-WhLnAONrF",
        "colab_type": "code",
        "colab": {}
      },
      "cell_type": "code",
      "source": [
        "ConvLearner."
      ],
      "execution_count": 0,
      "outputs": []
    }
  ]
}