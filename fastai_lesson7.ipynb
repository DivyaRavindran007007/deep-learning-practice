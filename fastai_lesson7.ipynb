{
  "nbformat": 4,
  "nbformat_minor": 0,
  "metadata": {
    "colab": {
      "name": "Copy of fastai_lesson7.ipynb",
      "version": "0.3.2",
      "provenance": []
    },
    "kernelspec": {
      "name": "python3",
      "display_name": "Python 3"
    },
    "accelerator": "GPU"
  },
  "cells": [
    {
      "cell_type": "markdown",
      "metadata": {
        "id": "view-in-github",
        "colab_type": "text"
      },
      "source": [
        "[View in Colaboratory](https://colab.research.google.com/github/kywch/deep-learning-practice/blob/master/fastai_lesson7.ipynb)"
      ]
    },
    {
      "metadata": {
        "id": "2qqhMs4Ah-_P",
        "colab_type": "text"
      },
      "cell_type": "markdown",
      "source": [
        "For tips related colab, see https://medium.com/deep-learning-turkey/google-colab-free-gpu-tutorial-e113627b9f5d \n",
        "\n",
        "The below codes are taken from http://course.fast.ai/lessons/lesson7.html, http://forums.fast.ai/t/wiki-lesson-7/9405 "
      ]
    },
    {
      "metadata": {
        "id": "N2yRwShniEXt",
        "colab_type": "code",
        "colab": {}
      },
      "cell_type": "code",
      "source": [
        ""
      ],
      "execution_count": 0,
      "outputs": []
    }
  ]
}